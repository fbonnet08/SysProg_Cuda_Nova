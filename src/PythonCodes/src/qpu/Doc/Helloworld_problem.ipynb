{
 "cells": [
  {
   "cell_type": "markdown",
   "metadata": {
    "qat-category": "1-Circuit generation in Python",
    "qat-summary": "1-Creation of an EPR pair using two qubits"
   },
   "source": [
    "# Quantum Helloworld: Creation of an EPR pair\n",
    "\n",
    "\n",
    "The goal of this jupyter notebook is to make you create your first quantum program in pyAQASM.\n",
    "This will lead us to see the main functionnalities to create a quantum program:\n",
    "\n",
    "+ create an object program\n",
    "+ allocate a register of qubits\n",
    "+ apply gates\n",
    "+ generate the circuit from the program\n",
    "+ create a job\n",
    "+ submit a job\n",
    "\n",
    "We will do it step by step to create an EPR pair. The circuit looks like that:\n",
    "\n",
    "<table>\n",
    "    <tr><td>\n",
    "        <img src=\"epr.png\" width=\"33%\"></td>\n",
    "    </tr>\n",
    "</table>\n"
   ]
  },
  {
   "cell_type": "markdown",
   "metadata": {},
   "source": [
    "## First step: Create a program\n",
    "\n",
    "To create a quantum circuit the first step on a QLM is to create a variable that will hold the program.\n",
    "This first step can be done this way :\n",
    "\n",
    "+ import the functions from qat.lang.AQASM\n",
    "+ create a program variable\n",
    "\n",
    "Complete the following cell to import the functions from qat.lang.AQASM:"
   ]
  },
  {
   "cell_type": "code",
   "execution_count": null,
   "metadata": {},
   "outputs": [],
   "source": [
    "from XXX.XXX.XXX import *"
   ]
  },
  {
   "cell_type": "markdown",
   "metadata": {},
   "source": [
    "Once this step is done we can create a program object.\n",
    "\n",
    "To do so you need:\n",
    "+ to define a name for the variable of your program\n",
    "+ to call from the library AQASM the function Program\n",
    "\n",
    "Complete the following cell with: \n",
    "+ a name for your program"
   ]
  },
  {
   "cell_type": "code",
   "execution_count": null,
   "metadata": {},
   "outputs": [],
   "source": [
    "XXX = Program() "
   ]
  },
  {
   "cell_type": "markdown",
   "metadata": {},
   "source": [
    "We now have a variable that will be able to hold the program we want to implement. We will see in the next part how to allocate the qubits."
   ]
  },
  {
   "cell_type": "markdown",
   "metadata": {},
   "source": [
    "## Second step: Allocate the qubits\n",
    "\n",
    "<table>\n",
    "    <tr><td>\n",
    "        <img src=\"epr.png\" width=\"33%\"></td>\n",
    "    </tr>\n",
    "</table>\n",
    "\n",
    "For our example we need to allocate two qubits in our program.\n",
    "\n",
    "We need to:\n",
    "+ define the name for our register of qubits\n",
    "+ call the function qalloc on our program\n",
    "+ define the number of qubits we want\n",
    "\n",
    "Complete the following cell to create two qubits:"
   ]
  },
  {
   "cell_type": "code",
   "execution_count": null,
   "metadata": {},
   "outputs": [],
   "source": [
    "XXX = XXX.qalloc(XXX) "
   ]
  },
  {
   "cell_type": "markdown",
   "metadata": {},
   "source": [
    "## Third step: Applying gates"
   ]
  },
  {
   "cell_type": "markdown",
   "metadata": {},
   "source": [
    "Now, we can have access to our qbits using the name of the register.\n",
    "\n",
    "Registers behave like python list/arrays, for example if you named your register QUBIT_REGISTER:\n",
    "+ QUBIT_REGISTER[0] is the first qubit.\n",
    "+ QUBIT_REGISTER[1] is the second qubit.\n",
    "\n",
    "To create our EPR pair, we simply need to apply the appropriate gates :\n",
    "+ a Hadamard gate (H)\n",
    "+ a controlled NOT gate (CNOT)\n",
    "\n",
    "Let's apply the Hadamard gate on the first qubit.\n",
    "To do so we need to:\n",
    "+ specify on which program we wish to apply our gate\n",
    "+ specify the gate we wish to apply\n",
    "+ specify the name of the qubit register we wish to apply the gate\n",
    "+ specify the index of the qubit inside the register\n",
    "\n",
    "The Hadamard gate is of arity 1 since it affects one qubit. \n",
    "\n",
    "Complete the following cell :"
   ]
  },
  {
   "cell_type": "code",
   "execution_count": null,
   "metadata": {},
   "outputs": [],
   "source": [
    "XXX.apply(H, XXX[0]) "
   ]
  },
  {
   "cell_type": "markdown",
   "metadata": {},
   "source": [
    "Once we have applied the Hadamard gate, we can apply the controlled NOT gate.\n",
    "\n",
    "A CNOT gate affects two qubits so it is a gate of arity 2.\n",
    "\n",
    "To do so we need to:\n",
    "+ specify on which program we wish to apply our gate\n",
    "+ specify the gate we wish to apply\n",
    "+ specify the first qubit which is the controller\n",
    "+ specify the second qubit which is affected by the controlled NOT"
   ]
  },
  {
   "cell_type": "code",
   "execution_count": null,
   "metadata": {},
   "outputs": [],
   "source": [
    "XXX.apply(CNOT, XXX[0], XXX[1])"
   ]
  },
  {
   "cell_type": "markdown",
   "metadata": {},
   "source": [
    "We have access to a variable containing our implementation of the EPR pair.\n",
    "\n",
    "We now need to create the circuit associated to this program."
   ]
  },
  {
   "cell_type": "markdown",
   "metadata": {},
   "source": [
    "## Fourth step: Create and visualize the circuit\n",
    "\n",
    "The QLM is based on an object called a circuit.\n",
    "\n",
    "Once a program is created it is possible to generate the circuit from it.\n",
    "\n",
    "A circuit can therefore be :\n",
    "+ executed\n",
    "+ optimized\n",
    "+ used to create other circuits\n",
    "\n",
    "To create your circuit you will need to:\n",
    "+ define the name of your cicuit\n",
    "+ call the function <i>to_circ</i> on your program\n",
    "\n",
    "Please, complete the following cell:"
   ]
  },
  {
   "cell_type": "code",
   "execution_count": null,
   "metadata": {},
   "outputs": [],
   "source": [
    "XXX = XXX.to_circ()"
   ]
  },
  {
   "cell_type": "markdown",
   "metadata": {},
   "source": [
    "Now that we have a proper circuit, we can vizualize it using:\n",
    "+ %qatdisplay CIRCUIT_NAME\n",
    "\n",
    "Try this in the following cell:"
   ]
  },
  {
   "cell_type": "code",
   "execution_count": null,
   "metadata": {},
   "outputs": [],
   "source": [
    "%qatdisplay XXX"
   ]
  },
  {
   "cell_type": "markdown",
   "metadata": {},
   "source": [
    "The circuit vizualisation is a usefull tool to quickly verify if the implementation of a program went well."
   ]
  },
  {
   "cell_type": "markdown",
   "metadata": {},
   "source": [
    "## Fifth step: Execute the circuit"
   ]
  },
  {
   "cell_type": "markdown",
   "metadata": {},
   "source": [
    "### Full distribution"
   ]
  },
  {
   "cell_type": "markdown",
   "metadata": {},
   "source": [
    "The steps we have done before gave us a circuit.\n",
    "\n",
    "We now need to create a job from this circuit using the function <i>to_job</i> on our circuit.\n",
    "\n",
    "You can use the following cell to get more informations about the function <i>to_job</i>.\n"
   ]
  },
  {
   "cell_type": "code",
   "execution_count": null,
   "metadata": {},
   "outputs": [],
   "source": [
    "help(XXX.to_job)"
   ]
  },
  {
   "cell_type": "markdown",
   "metadata": {},
   "source": [
    "To create a job we need to :\n",
    "+ define the name for your job\n",
    "+ call the function <i>to_job()</i> on a circuit\n",
    "\n",
    "We will call <i>to_job</i> without any parameter for this first time."
   ]
  },
  {
   "cell_type": "code",
   "execution_count": null,
   "metadata": {},
   "outputs": [],
   "source": [
    "XXX = XXX.to_job()"
   ]
  },
  {
   "cell_type": "markdown",
   "metadata": {},
   "source": [
    "For this first time on a QLM we will focus on a perfect simulation based on linear algebra.\n",
    "\n",
    "Be aware that there exist five different perfect simulators and it is possible to do noisy simulation on the QLM.\n",
    "\n",
    "To make a simulation with our job on a QLM we need to submit it to a qpu.\n",
    "\n",
    "To do so we first need to:\n",
    "+ import the function LinAlg from qat.qpus\n",
    "+ create a qpu by calling LinAlg()"
   ]
  },
  {
   "cell_type": "code",
   "execution_count": null,
   "metadata": {},
   "outputs": [],
   "source": [
    "from XXX.XXX import XXX\n",
    "linalgqpu = XXX()"
   ]
  },
  {
   "cell_type": "markdown",
   "metadata": {},
   "source": [
    "We can now submit the job to our simulator.\n",
    "\n",
    "To do so we need to use the function <i>submit</i> on our qpu and passing our job as a parameter:"
   ]
  },
  {
   "cell_type": "code",
   "execution_count": null,
   "metadata": {
    "scrolled": true
   },
   "outputs": [],
   "source": [
    "result = linalgqpu.submit(XXX)"
   ]
  },
  {
   "cell_type": "markdown",
   "metadata": {},
   "source": [
    "We can now print the results for example like that:"
   ]
  },
  {
   "cell_type": "code",
   "execution_count": null,
   "metadata": {},
   "outputs": [],
   "source": [
    "for sample in result:\n",
    "    print(\"State %s amplitude %s\" % (sample.state, sample.amplitude))"
   ]
  },
  {
   "cell_type": "markdown",
   "metadata": {},
   "source": [
    "This is the first way to create a job: without any parameters. So this is the default case. This way the qpu returns the best it can do. For the simulator LinAlg we have access to all the non-zero states with the information about the amplitude."
   ]
  },
  {
   "cell_type": "markdown",
   "metadata": {},
   "source": [
    "### Strictly emulate"
   ]
  },
  {
   "cell_type": "markdown",
   "metadata": {},
   "source": [
    "The second way is to strictly emulate a qpu. To do so you need to specify the option nbshots a strictly superior to 0. For example:"
   ]
  },
  {
   "cell_type": "code",
   "execution_count": null,
   "metadata": {},
   "outputs": [],
   "source": [
    "# Create a job where we specify the number of shots\n",
    "XXX = XXX.to_job(nbshots=10)"
   ]
  },
  {
   "cell_type": "markdown",
   "metadata": {},
   "source": [
    "The same way as previously can be used to submit the job to a simulator:"
   ]
  },
  {
   "cell_type": "code",
   "execution_count": null,
   "metadata": {},
   "outputs": [],
   "source": [
    "# Submit to the QPU\n",
    "result = linalgqpu.submit(XXX)"
   ]
  },
  {
   "cell_type": "markdown",
   "metadata": {},
   "source": [
    "And now print the results:"
   ]
  },
  {
   "cell_type": "code",
   "execution_count": null,
   "metadata": {
    "scrolled": true
   },
   "outputs": [],
   "source": [
    "# And use it to draw 10 samples\n",
    "for sample in result:\n",
    "    print(\"We measured the state {} (its probability is {} and its amplitude {})\".format(sample.state, sample.probability, sample.amplitude))"
   ]
  },
  {
   "cell_type": "markdown",
   "metadata": {},
   "source": [
    "Firstly, as you can see the amplitude is at None since we strictly emulate the behavior of a QPU. And QPU will only end up with only a single measurement without any information on the amplitude.\n",
    "\n",
    "Secondly, by default the results are aggregated. This means we launched 10 times (nbshots=10) the execution of our circuit and made an estimation of the probability for each state based on this sampling.\n",
    "\n",
    "Note : you can execute the previous cell multiple times and you will randomly obtain a state."
   ]
  },
  {
   "cell_type": "markdown",
   "metadata": {},
   "source": [
    " "
   ]
  },
  {
   "cell_type": "markdown",
   "metadata": {},
   "source": [
    "It is possible to create a job without aggregating (aggregate_data=False) the results:"
   ]
  },
  {
   "cell_type": "code",
   "execution_count": null,
   "metadata": {},
   "outputs": [],
   "source": [
    "# Create a job where we specify the number of shots\n",
    "XXX = XXX.to_job(nbshots=10, aggregate_data=False)"
   ]
  },
  {
   "cell_type": "code",
   "execution_count": null,
   "metadata": {},
   "outputs": [],
   "source": [
    "# Submit to the QPU\n",
    "result = linalgqpu.submit(XXX)"
   ]
  },
  {
   "cell_type": "code",
   "execution_count": null,
   "metadata": {},
   "outputs": [],
   "source": [
    "# And use it to draw 10 samples\n",
    "for sample in result:\n",
    "    print(\"We measured the state {}\".format(sample.state))"
   ]
  },
  {
   "cell_type": "markdown",
   "metadata": {},
   "source": [
    "As you can see the only information we are getting are the states of each execution."
   ]
  },
  {
   "cell_type": "markdown",
   "metadata": {},
   "source": [
    "We have seen how to :\n",
    "+ create a program\n",
    "+ allocate some qubits\n",
    "+ apply gates\n",
    "+ generate a circuit\n",
    "+ create a job (full distribution, strictly emulate, aggregate data)\n",
    "+ submit a job\n",
    "\n",
    "This ends the jupyter notebook of the helloworld."
   ]
  },
  {
   "cell_type": "code",
   "execution_count": null,
   "metadata": {},
   "outputs": [],
   "source": []
  }
 ],
 "metadata": {
  "kernelspec": {
   "display_name": "Python 3 (ipykernel)",
   "language": "python",
   "name": "python3"
  },
  "language_info": {
   "codemirror_mode": {
    "name": "ipython",
    "version": 3
   },
   "file_extension": ".py",
   "mimetype": "text/x-python",
   "name": "python",
   "nbconvert_exporter": "python",
   "pygments_lexer": "ipython3",
   "version": "3.9.13"
  }
 },
 "nbformat": 4,
 "nbformat_minor": 4
}
